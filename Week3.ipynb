{
 "cells": [
  {
   "cell_type": "code",
   "execution_count": 6,
   "id": "ecefc01e",
   "metadata": {},
   "outputs": [],
   "source": [
    "import pandas as pd"
   ]
  },
  {
   "cell_type": "code",
   "execution_count": 61,
   "id": "ab91ba58",
   "metadata": {},
   "outputs": [],
   "source": [
    "# Load the dataset using pandas\n",
    "df = pd.read_csv(\"day5-input.txt\", header=None, skip_blank_lines=False)"
   ]
  },
  {
   "cell_type": "code",
   "execution_count": 62,
   "id": "40ce2ddf",
   "metadata": {},
   "outputs": [],
   "source": [
    "input_list = df[0].tolist()"
   ]
  },
  {
   "cell_type": "code",
   "execution_count": 58,
   "id": "eba3967b",
   "metadata": {},
   "outputs": [],
   "source": [
    "# Functions used for Part 1\n",
    "\n",
    "def get_row(my_string):\n",
    "    start = 0\n",
    "    stop = 127\n",
    "    for each in my_string:\n",
    "        if each == \"F\":\n",
    "            stop = start + (((stop+1-start) / 2) - 1)\n",
    "        else:\n",
    "            start = start + ((stop+1-start) / 2)\n",
    "\n",
    "    return start\n",
    "\n",
    "def get_seat(my_string):\n",
    "    start = 0\n",
    "    stop = 7\n",
    "    for each in my_string:\n",
    "        if each == \"L\":\n",
    "            stop = start + (((stop+1-start) / 2) - 1)\n",
    "        else:\n",
    "            start = start + ((stop+1-start) / 2)\n",
    "    return start\n",
    "\n",
    "def get_seat_id(my_string):\n",
    "    row = get_row(my_string[:7])\n",
    "    seat = get_seat(my_string[7:])\n",
    "    return (row*8) + seat"
   ]
  },
  {
   "cell_type": "code",
   "execution_count": 63,
   "id": "9b6cc076",
   "metadata": {},
   "outputs": [],
   "source": [
    "# Find answer to Part 1\n",
    "high = 0\n",
    "for each in input_list:\n",
    "    seat_id = get_seat_id(each)\n",
    "    if seat_id > high:\n",
    "        high = seat_id"
   ]
  },
  {
   "cell_type": "code",
   "execution_count": 64,
   "id": "d6a478e1",
   "metadata": {},
   "outputs": [
    {
     "data": {
      "text/plain": [
       "874.0"
      ]
     },
     "execution_count": 64,
     "metadata": {},
     "output_type": "execute_result"
    }
   ],
   "source": [
    "# Part 1 answer\n",
    "high"
   ]
  },
  {
   "cell_type": "markdown",
   "id": "6397da57",
   "metadata": {},
   "source": [
    "# PART 2"
   ]
  },
  {
   "cell_type": "code",
   "execution_count": 65,
   "id": "ae3b6392",
   "metadata": {},
   "outputs": [
    {
     "data": {
      "text/plain": [
       "1024"
      ]
     },
     "execution_count": 65,
     "metadata": {},
     "output_type": "execute_result"
    }
   ],
   "source": [
    "# Find all possible seat ids on the flight and put in list\n",
    "all_seat_ids = []\n",
    "for i in range(128):\n",
    "    for j in range(8):\n",
    "        all_seat_ids.append((i * 8) + j)\n",
    "len(all_seat_ids)"
   ]
  },
  {
   "cell_type": "code",
   "execution_count": 67,
   "id": "fac44d1b",
   "metadata": {},
   "outputs": [
    {
     "data": {
      "text/plain": [
       "826"
      ]
     },
     "execution_count": 67,
     "metadata": {},
     "output_type": "execute_result"
    }
   ],
   "source": [
    "# Find all seat ids in my input list\n",
    "my_seat_ids = []\n",
    "for each in input_list:\n",
    "    my_seat_ids.append(get_seat_id(each))\n",
    "len(my_seat_ids)"
   ]
  },
  {
   "cell_type": "code",
   "execution_count": 69,
   "id": "74aad00c",
   "metadata": {},
   "outputs": [
    {
     "data": {
      "text/plain": [
       "198"
      ]
     },
     "execution_count": 69,
     "metadata": {},
     "output_type": "execute_result"
    }
   ],
   "source": [
    "# Find intersection of lists -- all seat ids missing from my input\n",
    "missing = list(set(all_seat_ids) - set(my_seat_ids))\n",
    "len(missing)"
   ]
  },
  {
   "cell_type": "code",
   "execution_count": 70,
   "id": "c57cd213",
   "metadata": {},
   "outputs": [
    {
     "data": {
      "text/plain": [
       "[0,\n",
       " 1,\n",
       " 2,\n",
       " 3,\n",
       " 4,\n",
       " 5,\n",
       " 6,\n",
       " 7,\n",
       " 8,\n",
       " 9,\n",
       " 10,\n",
       " 11,\n",
       " 12,\n",
       " 13,\n",
       " 14,\n",
       " 15,\n",
       " 16,\n",
       " 17,\n",
       " 18,\n",
       " 19,\n",
       " 20,\n",
       " 21,\n",
       " 22,\n",
       " 23,\n",
       " 24,\n",
       " 25,\n",
       " 26,\n",
       " 27,\n",
       " 28,\n",
       " 29,\n",
       " 30,\n",
       " 31,\n",
       " 32,\n",
       " 33,\n",
       " 34,\n",
       " 35,\n",
       " 36,\n",
       " 37,\n",
       " 38,\n",
       " 39,\n",
       " 40,\n",
       " 41,\n",
       " 42,\n",
       " 43,\n",
       " 44,\n",
       " 45,\n",
       " 46,\n",
       " 47,\n",
       " 594,\n",
       " 875,\n",
       " 876,\n",
       " 877,\n",
       " 878,\n",
       " 879,\n",
       " 880,\n",
       " 881,\n",
       " 882,\n",
       " 883,\n",
       " 884,\n",
       " 885,\n",
       " 886,\n",
       " 887,\n",
       " 888,\n",
       " 889,\n",
       " 890,\n",
       " 891,\n",
       " 892,\n",
       " 893,\n",
       " 894,\n",
       " 895,\n",
       " 896,\n",
       " 897,\n",
       " 898,\n",
       " 899,\n",
       " 900,\n",
       " 901,\n",
       " 902,\n",
       " 903,\n",
       " 904,\n",
       " 905,\n",
       " 906,\n",
       " 907,\n",
       " 908,\n",
       " 909,\n",
       " 910,\n",
       " 911,\n",
       " 912,\n",
       " 913,\n",
       " 914,\n",
       " 915,\n",
       " 916,\n",
       " 917,\n",
       " 918,\n",
       " 919,\n",
       " 920,\n",
       " 921,\n",
       " 922,\n",
       " 923,\n",
       " 924,\n",
       " 925,\n",
       " 926,\n",
       " 927,\n",
       " 928,\n",
       " 929,\n",
       " 930,\n",
       " 931,\n",
       " 932,\n",
       " 933,\n",
       " 934,\n",
       " 935,\n",
       " 936,\n",
       " 937,\n",
       " 938,\n",
       " 939,\n",
       " 940,\n",
       " 941,\n",
       " 942,\n",
       " 943,\n",
       " 944,\n",
       " 945,\n",
       " 946,\n",
       " 947,\n",
       " 948,\n",
       " 949,\n",
       " 950,\n",
       " 951,\n",
       " 952,\n",
       " 953,\n",
       " 954,\n",
       " 955,\n",
       " 956,\n",
       " 957,\n",
       " 958,\n",
       " 959,\n",
       " 960,\n",
       " 961,\n",
       " 962,\n",
       " 963,\n",
       " 964,\n",
       " 965,\n",
       " 966,\n",
       " 967,\n",
       " 968,\n",
       " 969,\n",
       " 970,\n",
       " 971,\n",
       " 972,\n",
       " 973,\n",
       " 974,\n",
       " 975,\n",
       " 976,\n",
       " 977,\n",
       " 978,\n",
       " 979,\n",
       " 980,\n",
       " 981,\n",
       " 982,\n",
       " 983,\n",
       " 984,\n",
       " 985,\n",
       " 986,\n",
       " 987,\n",
       " 988,\n",
       " 989,\n",
       " 990,\n",
       " 991,\n",
       " 992,\n",
       " 993,\n",
       " 994,\n",
       " 995,\n",
       " 996,\n",
       " 997,\n",
       " 998,\n",
       " 999,\n",
       " 1000,\n",
       " 1001,\n",
       " 1002,\n",
       " 1003,\n",
       " 1004,\n",
       " 1005,\n",
       " 1006,\n",
       " 1007,\n",
       " 1008,\n",
       " 1009,\n",
       " 1010,\n",
       " 1011,\n",
       " 1012,\n",
       " 1013,\n",
       " 1014,\n",
       " 1015,\n",
       " 1016,\n",
       " 1017,\n",
       " 1018,\n",
       " 1019,\n",
       " 1020,\n",
       " 1021,\n",
       " 1022,\n",
       " 1023]"
      ]
     },
     "execution_count": 70,
     "metadata": {},
     "output_type": "execute_result"
    }
   ],
   "source": [
    "missing  # this was silly, I could easily find my seat by looking at the middle of the list - it jumped right out at me!"
   ]
  }
 ],
 "metadata": {
  "kernelspec": {
   "display_name": "Python 3 (ipykernel)",
   "language": "python",
   "name": "python3"
  },
  "language_info": {
   "codemirror_mode": {
    "name": "ipython",
    "version": 3
   },
   "file_extension": ".py",
   "mimetype": "text/x-python",
   "name": "python",
   "nbconvert_exporter": "python",
   "pygments_lexer": "ipython3",
   "version": "3.9.7"
  }
 },
 "nbformat": 4,
 "nbformat_minor": 5
}
